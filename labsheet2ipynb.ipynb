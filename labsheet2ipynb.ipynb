{
  "nbformat": 4,
  "nbformat_minor": 0,
  "metadata": {
    "colab": {
      "provenance": [],
      "authorship_tag": "ABX9TyODPEPfpr8CSMoVS/4B5EAD",
      "include_colab_link": true
    },
    "kernelspec": {
      "name": "python3",
      "display_name": "Python 3"
    },
    "language_info": {
      "name": "python"
    }
  },
  "cells": [
    {
      "cell_type": "markdown",
      "metadata": {
        "id": "view-in-github",
        "colab_type": "text"
      },
      "source": [
        "<a href=\"https://colab.research.google.com/github/ThumuThriveni/data-handling-and-visualization/blob/main/labsheet2ipynb.ipynb\" target=\"_parent\"><img src=\"https://colab.research.google.com/assets/colab-badge.svg\" alt=\"Open In Colab\"/></a>"
      ]
    },
    {
      "cell_type": "code",
      "execution_count": null,
      "metadata": {
        "id": "TI3EI-gX3Kmv"
      },
      "outputs": [],
      "source": [
        "import pandas as pd"
      ]
    },
    {
      "cell_type": "code",
      "source": [
        "df=pd.read_csv(\"/content/data (1).csv\")\n",
        "print(df.head())"
      ],
      "metadata": {
        "id": "GvbGiXhp4stD"
      },
      "execution_count": null,
      "outputs": []
    },
    {
      "cell_type": "markdown",
      "source": [],
      "metadata": {
        "id": "yw_65iIl5DcS"
      }
    },
    {
      "cell_type": "code",
      "source": [
        "df=pd.read_csv(\"/content/data (1).csv\")\n",
        "print(df.tail())"
      ],
      "metadata": {
        "id": "Qh53Ey6w6ItC"
      },
      "execution_count": null,
      "outputs": []
    },
    {
      "cell_type": "code",
      "source": [
        "df.shape"
      ],
      "metadata": {
        "colab": {
          "base_uri": "https://localhost:8080/"
        },
        "id": "lqU09IHa6RhK",
        "outputId": "9e63f865-1c38-4c03-a5c5-a19be7503a47"
      },
      "execution_count": null,
      "outputs": [
        {
          "output_type": "execute_result",
          "data": {
            "text/plain": [
              "(169, 4)"
            ]
          },
          "metadata": {},
          "execution_count": 6
        }
      ]
    },
    {
      "cell_type": "code",
      "source": [
        "print(df.to_markdown())"
      ],
      "metadata": {
        "id": "XhUSde5X6eL6"
      },
      "execution_count": null,
      "outputs": []
    },
    {
      "cell_type": "code",
      "source": [
        "df.isnull()"
      ],
      "metadata": {
        "id": "nZIBZ2fi61Sq"
      },
      "execution_count": null,
      "outputs": []
    },
    {
      "cell_type": "code",
      "source": [
        "df.isnull().sum()"
      ],
      "metadata": {
        "id": "jmwwX4rI66Pa"
      },
      "execution_count": null,
      "outputs": []
    },
    {
      "cell_type": "code",
      "source": [
        "df.fillna(130,inplace=True)"
      ],
      "metadata": {
        "id": "ftXxAB1b7LCq"
      },
      "execution_count": null,
      "outputs": []
    },
    {
      "cell_type": "code",
      "source": [
        "print(df.to_markdown())"
      ],
      "metadata": {
        "id": "GJk6rLh87iip"
      },
      "execution_count": null,
      "outputs": []
    },
    {
      "cell_type": "code",
      "source": [
        "print(df.head(12))"
      ],
      "metadata": {
        "id": "VG8JY6XZ7-jj"
      },
      "execution_count": null,
      "outputs": []
    },
    {
      "cell_type": "code",
      "source": [
        "print(df.to_markdown())"
      ],
      "metadata": {
        "id": "bPdGsWre8NSR"
      },
      "execution_count": null,
      "outputs": []
    },
    {
      "cell_type": "code",
      "source": [
        "#  insert mode\n",
        "df=pd.read_csv(\"/content/data (1).csv\")\n",
        "print(df.head)"
      ],
      "metadata": {
        "id": "Qe9i6oyJ8V6R"
      },
      "execution_count": null,
      "outputs": []
    },
    {
      "cell_type": "code",
      "source": [
        "x=df[\"Calories\"].mode()[0]\n",
        "df[\"Calories\"].fillna(x,inplace=True)\n",
        "print(df.to_markdown())\n"
      ],
      "metadata": {
        "id": "K_qHYVDm9NPR"
      },
      "execution_count": null,
      "outputs": []
    },
    {
      "cell_type": "code",
      "source": [
        "df=pd.read_csv(\"/content/data (1).csv\")\n",
        "print(df.head())"
      ],
      "metadata": {
        "id": "yqu_s37R-KoB"
      },
      "execution_count": null,
      "outputs": []
    },
    {
      "cell_type": "code",
      "source": [
        "x=df[\"Calories\"].mean()\n",
        "df[\"Calories\"].fillna(x,inplace=True)\n",
        "print(df.to_markdown())"
      ],
      "metadata": {
        "id": "Be3mJxcR-j4h"
      },
      "execution_count": null,
      "outputs": []
    },
    {
      "cell_type": "code",
      "source": [
        "x=df[\"Calories\"].median()\n",
        "df[\"Calories\"].fillna(x,inplace=True)\n",
        "print(df.to_markdown())"
      ],
      "metadata": {
        "id": "OqG2Q9rR_HMZ"
      },
      "execution_count": null,
      "outputs": []
    },
    {
      "cell_type": "code",
      "source": [
        "df.corr()"
      ],
      "metadata": {
        "id": "8a-j2hpg_UMR"
      },
      "execution_count": null,
      "outputs": []
    },
    {
      "cell_type": "code",
      "source": [
        "print(df.duplicated())"
      ],
      "metadata": {
        "colab": {
          "base_uri": "https://localhost:8080/"
        },
        "id": "0JsBSlv__bpZ",
        "outputId": "156bdf02-d77d-4ee1-8a13-769111aa18a1"
      },
      "execution_count": null,
      "outputs": [
        {
          "output_type": "stream",
          "name": "stdout",
          "text": [
            "0      False\n",
            "1      False\n",
            "2      False\n",
            "3      False\n",
            "4      False\n",
            "       ...  \n",
            "164    False\n",
            "165    False\n",
            "166    False\n",
            "167    False\n",
            "168    False\n",
            "Length: 162, dtype: bool\n"
          ]
        }
      ]
    },
    {
      "cell_type": "code",
      "source": [
        "df.drop_duplicates(inplace=True)"
      ],
      "metadata": {
        "id": "yqQW7ICe_oNp"
      },
      "execution_count": null,
      "outputs": []
    },
    {
      "cell_type": "code",
      "source": [
        "#FLICKER IMAGES\n",
        "df=pd.read_csv(\"/content/data (1).csv\")\n",
        "print(df.head)"
      ],
      "metadata": {
        "colab": {
          "base_uri": "https://localhost:8080/"
        },
        "id": "4evNSh4l_yJA",
        "outputId": "bc15b596-b6b2-4887-86cf-708b78819155"
      },
      "execution_count": null,
      "outputs": [
        {
          "output_type": "stream",
          "name": "stdout",
          "text": [
            "<bound method NDFrame.head of      Duration  Pulse  Maxpulse  Calories\n",
            "0          60    110       130     409.1\n",
            "1          60    117       145     479.0\n",
            "2          60    103       135     340.0\n",
            "3          45    109       175     282.4\n",
            "4          45    117       148     406.0\n",
            "..        ...    ...       ...       ...\n",
            "164        60    105       140     290.8\n",
            "165        60    110       145     300.0\n",
            "166        60    115       145     310.2\n",
            "167        75    120       150     320.4\n",
            "168        75    125       150     330.4\n",
            "\n",
            "[169 rows x 4 columns]>\n"
          ]
        }
      ]
    }
  ]
}