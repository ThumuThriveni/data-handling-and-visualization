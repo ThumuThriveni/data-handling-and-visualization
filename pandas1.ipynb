{
  "nbformat": 4,
  "nbformat_minor": 0,
  "metadata": {
    "colab": {
      "provenance": [],
      "authorship_tag": "ABX9TyPIAc5FGtnrH1U3+9PmKcWH",
      "include_colab_link": true
    },
    "kernelspec": {
      "name": "python3",
      "display_name": "Python 3"
    },
    "language_info": {
      "name": "python"
    }
  },
  "cells": [
    {
      "cell_type": "markdown",
      "metadata": {
        "id": "view-in-github",
        "colab_type": "text"
      },
      "source": [
        "<a href=\"https://colab.research.google.com/github/ThumuThriveni/data-handling-and-visualization/blob/main/pandas1.ipynb\" target=\"_parent\"><img src=\"https://colab.research.google.com/assets/colab-badge.svg\" alt=\"Open In Colab\"/></a>"
      ]
    },
    {
      "cell_type": "code",
      "execution_count": null,
      "metadata": {
        "id": "vSimli8iC_r4"
      },
      "outputs": [],
      "source": [
        "#example of creating pandas Series\n",
        "import pandas as pd\n",
        "s1=pd.Series([-3,-1,1,3,5,'janu',7.3])\n",
        "print(s1)"
      ]
    },
    {
      "cell_type": "code",
      "source": [
        "#view index values\n",
        "print(s1[2])\n"
      ],
      "metadata": {
        "id": "-IgY5ozgEail"
      },
      "execution_count": null,
      "outputs": []
    },
    {
      "cell_type": "code",
      "source": [
        "#create a Series from a dictionary:\n",
        "Calories={\"day1\":420,\"day2\":380,\"day3\":390}\n",
        "myvar=pd.Series(Calories)\n",
        "print(myvar)\n"
      ],
      "metadata": {
        "id": "Cge-7bBsFaoF"
      },
      "execution_count": null,
      "outputs": []
    },
    {
      "cell_type": "code",
      "source": [
        "#create your own labels:\n",
        "a=[1,7,2]\n",
        "myvar=pd.Series(a,index=['x','y','z'])\n",
        "print(myvar)"
      ],
      "metadata": {
        "id": "sOwID823GkrW"
      },
      "execution_count": null,
      "outputs": []
    },
    {
      "cell_type": "code",
      "source": [
        "#create your own labels:\n",
        "a=[1,7,2]\n",
        "myvar=pd.Series(a,index=['x','y','z'])\n",
        "print(myvar)\n",
        "print(myvar[\"y\"])"
      ],
      "metadata": {
        "id": "kXQrVoVoHU68"
      },
      "execution_count": null,
      "outputs": []
    },
    {
      "cell_type": "code",
      "source": [
        "s1=pd.Series([-3,-1,1,3,5,'janu',7.3])\n",
        "s1[:2]"
      ],
      "metadata": {
        "id": "NOdPrCHgHba7"
      },
      "execution_count": null,
      "outputs": []
    },
    {
      "cell_type": "code",
      "source": [
        "print(s1[[2,1,3]])\n"
      ],
      "metadata": {
        "id": "Elpswp_KH2Nr"
      },
      "execution_count": null,
      "outputs": []
    },
    {
      "cell_type": "code",
      "source": [
        "#Alternative way or creating Series\n",
        "s=pd.Series([1,2,3,4,5],index=['a','b','c','d','e'])\n",
        "print(s['a'])"
      ],
      "metadata": {
        "id": "rtnKtURCIx4s"
      },
      "execution_count": null,
      "outputs": []
    },
    {
      "cell_type": "code",
      "source": [
        "type(s1)"
      ],
      "metadata": {
        "id": "dAKdCsRjJX6r"
      },
      "execution_count": null,
      "outputs": []
    },
    {
      "cell_type": "code",
      "source": [],
      "metadata": {
        "id": "wph1OfvBJf77"
      },
      "execution_count": null,
      "outputs": []
    }
  ]
}